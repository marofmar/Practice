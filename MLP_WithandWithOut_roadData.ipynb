{
  "nbformat": 4,
  "nbformat_minor": 0,
  "metadata": {
    "colab": {
      "name": "MLP_WandWO_road.ipynb",
      "version": "0.3.2",
      "provenance": []
    },
    "kernelspec": {
      "name": "python3",
      "display_name": "Python 3"
    },
    "accelerator": "GPU"
  },
  "cells": [
    {
      "cell_type": "code",
      "metadata": {
        "id": "r9FFUQZGyCQo",
        "colab_type": "code",
        "colab": {}
      },
      "source": [
        "SEQ_LEN = 1\n",
        "FUTURE_PERIOD_PREDICT = 1\n",
        "BATCH_SIZE = 64\n",
        "\n",
        "import tensorflow as tf\n",
        "\n",
        "import numpy as np\n",
        "import pandas as pd\n",
        "from sklearn import preprocessing\n",
        "from collections import deque\n",
        "\n",
        "from sklearn import model_selection\n",
        "\n",
        "import random\n",
        "from time import gmtime, strftime\n",
        "from datetime import datetime\n",
        "import itertools\n",
        "import tensorflow as tf\n",
        "from tensorflow.python.keras.models import Sequential\n",
        "from tensorflow.python.keras.layers import Dense, LSTM,Activation, Dropout, BatchNormalization\n",
        "\n",
        "import matplotlib.pyplot as plt\n",
        "import seaborn as sns"
      ],
      "execution_count": 0,
      "outputs": []
    },
    {
      "cell_type": "code",
      "metadata": {
        "id": "KwHxjTLzyMxb",
        "colab_type": "code",
        "colab": {
          "resources": {
            "http://localhost:8080/nbextensions/google.colab/files.js": {
              "data": "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",
              "ok": true,
              "headers": [
                [
                  "content-type",
                  "application/javascript"
                ]
              ],
              "status": 200,
              "status_text": ""
            }
          },
          "base_uri": "https://localhost:8080/",
          "height": 71
        },
        "outputId": "1f2e1f71-438a-4ac1-aa45-8817abc4c39d"
      },
      "source": [
        "from google.colab import files\n",
        "upload1 = files.upload()"
      ],
      "execution_count": 31,
      "outputs": [
        {
          "output_type": "display_data",
          "data": {
            "text/html": [
              "\n",
              "     <input type=\"file\" id=\"files-0c792024-990b-48c6-8b2f-d578f3401f1b\" name=\"files[]\" multiple disabled />\n",
              "     <output id=\"result-0c792024-990b-48c6-8b2f-d578f3401f1b\">\n",
              "      Upload widget is only available when the cell has been executed in the\n",
              "      current browser session. Please rerun this cell to enable.\n",
              "      </output>\n",
              "      <script src=\"/nbextensions/google.colab/files.js\"></script> "
            ],
            "text/plain": [
              "<IPython.core.display.HTML object>"
            ]
          },
          "metadata": {
            "tags": []
          }
        },
        {
          "output_type": "stream",
          "text": [
            "Saving data12to17cols_energy.csv to data12to17cols_energy (1).csv\n"
          ],
          "name": "stdout"
        }
      ]
    },
    {
      "cell_type": "code",
      "metadata": {
        "id": "1aEPA_LUyS-g",
        "colab_type": "code",
        "colab": {}
      },
      "source": [
        "import io\n",
        "import pandas as pd \n",
        "dt17 = pd.read_csv(io.BytesIO(upload1['data12to17cols_energy.csv']), index_col = 0)"
      ],
      "execution_count": 0,
      "outputs": []
    },
    {
      "cell_type": "code",
      "metadata": {
        "id": "vBEZDJY_yZQu",
        "colab_type": "code",
        "colab": {
          "base_uri": "https://localhost:8080/",
          "height": 235
        },
        "outputId": "84819012-6077-433c-e7e8-08be1d88f101"
      },
      "source": [
        "pm3 = dt17.copy()\n",
        "pm3.head()"
      ],
      "execution_count": 33,
      "outputs": [
        {
          "output_type": "execute_result",
          "data": {
            "text/html": [
              "<div>\n",
              "<style scoped>\n",
              "    .dataframe tbody tr th:only-of-type {\n",
              "        vertical-align: middle;\n",
              "    }\n",
              "\n",
              "    .dataframe tbody tr th {\n",
              "        vertical-align: top;\n",
              "    }\n",
              "\n",
              "    .dataframe thead th {\n",
              "        text-align: right;\n",
              "    }\n",
              "</style>\n",
              "<table border=\"1\" class=\"dataframe\">\n",
              "  <thead>\n",
              "    <tr style=\"text-align: right;\">\n",
              "      <th></th>\n",
              "      <th>ss_all</th>\n",
              "      <th>gn_road</th>\n",
              "      <th>temp_tt</th>\n",
              "      <th>humid_tt</th>\n",
              "      <th>day</th>\n",
              "      <th>wind_tt</th>\n",
              "      <th>rainfall_tt</th>\n",
              "      <th>elec</th>\n",
              "    </tr>\n",
              "    <tr>\n",
              "      <th>time</th>\n",
              "      <th></th>\n",
              "      <th></th>\n",
              "      <th></th>\n",
              "      <th></th>\n",
              "      <th></th>\n",
              "      <th></th>\n",
              "      <th></th>\n",
              "      <th></th>\n",
              "    </tr>\n",
              "  </thead>\n",
              "  <tbody>\n",
              "    <tr>\n",
              "      <th>1/01/2000 00:00</th>\n",
              "      <td>1</td>\n",
              "      <td>506.840989</td>\n",
              "      <td>3.3</td>\n",
              "      <td>74.0</td>\n",
              "      <td>6</td>\n",
              "      <td>2.2</td>\n",
              "      <td>0.0</td>\n",
              "      <td>23230.0</td>\n",
              "    </tr>\n",
              "    <tr>\n",
              "      <th>1/01/2000 01:00</th>\n",
              "      <td>1</td>\n",
              "      <td>480.024735</td>\n",
              "      <td>3.1</td>\n",
              "      <td>74.0</td>\n",
              "      <td>6</td>\n",
              "      <td>2.2</td>\n",
              "      <td>0.0</td>\n",
              "      <td>22176.0</td>\n",
              "    </tr>\n",
              "    <tr>\n",
              "      <th>1/01/2000 02:00</th>\n",
              "      <td>1</td>\n",
              "      <td>390.498233</td>\n",
              "      <td>3.0</td>\n",
              "      <td>75.1</td>\n",
              "      <td>6</td>\n",
              "      <td>2.2</td>\n",
              "      <td>0.0</td>\n",
              "      <td>21316.0</td>\n",
              "    </tr>\n",
              "    <tr>\n",
              "      <th>1/01/2000 03:00</th>\n",
              "      <td>1</td>\n",
              "      <td>321.646643</td>\n",
              "      <td>2.9</td>\n",
              "      <td>76.7</td>\n",
              "      <td>6</td>\n",
              "      <td>2.1</td>\n",
              "      <td>0.0</td>\n",
              "      <td>20636.0</td>\n",
              "    </tr>\n",
              "    <tr>\n",
              "      <th>1/01/2000 04:00</th>\n",
              "      <td>1</td>\n",
              "      <td>307.116608</td>\n",
              "      <td>2.5</td>\n",
              "      <td>78.6</td>\n",
              "      <td>6</td>\n",
              "      <td>2.3</td>\n",
              "      <td>0.0</td>\n",
              "      <td>20138.0</td>\n",
              "    </tr>\n",
              "  </tbody>\n",
              "</table>\n",
              "</div>"
            ],
            "text/plain": [
              "                 ss_all     gn_road  temp_tt  ...  wind_tt  rainfall_tt     elec\n",
              "time                                          ...                               \n",
              "1/01/2000 00:00       1  506.840989      3.3  ...      2.2          0.0  23230.0\n",
              "1/01/2000 01:00       1  480.024735      3.1  ...      2.2          0.0  22176.0\n",
              "1/01/2000 02:00       1  390.498233      3.0  ...      2.2          0.0  21316.0\n",
              "1/01/2000 03:00       1  321.646643      2.9  ...      2.1          0.0  20636.0\n",
              "1/01/2000 04:00       1  307.116608      2.5  ...      2.3          0.0  20138.0\n",
              "\n",
              "[5 rows x 8 columns]"
            ]
          },
          "metadata": {
            "tags": []
          },
          "execution_count": 33
        }
      ]
    },
    {
      "cell_type": "code",
      "metadata": {
        "id": "RLnrwb-HypCv",
        "colab_type": "code",
        "colab": {
          "base_uri": "https://localhost:8080/",
          "height": 34
        },
        "outputId": "96b47bc1-11ad-4d6c-d19c-ff744b478f25"
      },
      "source": [
        "scaler = preprocessing.MinMaxScaler()\n",
        "\n",
        "if 1:\n",
        "    cols = ['ss_all','gn_road','temp_tt','humid_tt','day', 'wind_tt','rainfall_tt','elec']\n",
        "    pm3 = pm3[cols]\n",
        "    pm3 = pd.get_dummies(pm3, columns = ['day'])\n",
        "    pm3['elec'] = pm3['elec']/100000\n",
        "    pm3['shift_1'] = pm3['elec'].shift(24)\n",
        "    pm3['shift_7'] = pm3['elec'].shift(168)\n",
        "    \n",
        "    pm3['gn_road'] = scaler.fit_transform(np.array(pm3['gn_road']).reshape(-1,1))\n",
        "\n",
        "    pm3['humid_tt'] = scaler.fit_transform(np.array(pm3['humid_tt']).reshape(-1,1))\n",
        "    pm3['temp_tt'] = scaler.fit_transform(np.array(pm3['temp_tt']).reshape(-1,1))\n",
        "\n",
        "    pm3['wind_tt'] = scaler.fit_transform(np.array(pm3['wind_tt']).reshape(-1,1))\n",
        "    pm3['rainfall_tt'] = scaler.fit_transform(np.array(pm3['rainfall_tt']).reshape(-1,1))    \n",
        "\n",
        "    re_cols = ['ss_all', 'gn_road', 'temp_tt', 'humid_tt', 'wind_tt', 'rainfall_tt', 'day_1', 'day_2', 'day_3', 'day_4', 'day_5', 'day_6', 'day_7', 'shift_1', 'shift_7','elec' ]\n",
        "    pm3 = pm3[re_cols]\n",
        "    pm3.dropna(inplace = True)\n",
        "\n",
        "print(len(pm3.columns))"
      ],
      "execution_count": 34,
      "outputs": [
        {
          "output_type": "stream",
          "text": [
            "16\n"
          ],
          "name": "stdout"
        }
      ]
    },
    {
      "cell_type": "code",
      "metadata": {
        "id": "MlbFZbaSyrMm",
        "colab_type": "code",
        "colab": {
          "base_uri": "https://localhost:8080/",
          "height": 34
        },
        "outputId": "2127115c-089c-4759-81f2-43d574b82dad"
      },
      "source": [
        "# 어린이날 2017-5-5\n",
        "\n",
        "if 1: \n",
        "    tr = pm3.loc[:'1/31/2017 00:00', :]\n",
        "    val = pm3.loc['2/01/2017 01:00':'4/30/2017 00:00']\n",
        "    te = pm3.loc['5/01/2017 01:00':'5/10/2017 00:00']\n",
        "\n",
        "# 광복절 2017-8-15 \n",
        "elif 0:\n",
        "    tr = pm3.loc[:'5/31/2017 00:00', :]\n",
        "    val = pm3.loc['6/01/2017 01:00':'8/10/2017 00:00']\n",
        "    te = pm3.loc['8/11/2017 01:00':'8/20/2017 00:00']\n",
        "\n",
        "# 성탄절 2017-12-25\n",
        "elif 0:\n",
        "    tr = pm3.loc[:'8/31/2017 00:00', :]\n",
        "    val = pm3.loc['9/01/2017 01:00':'12/20/2017 00:00']\n",
        "    te = pm3.loc['12/21/2017 01:00':'12/30/2017 00:00']\n",
        "    \n",
        "# 석탄일 2017-5-4\n",
        "elif 0:\n",
        "    tr = pm3.loc[:'1/31/2017 00:00', :]\n",
        "    val = pm3.loc['2/01/2017 01:00':'4/28/2017 00:00']\n",
        "    te = pm3.loc['4/29/2017 01:00':'5/08/2017 00:00']\n",
        "\n",
        "    \n",
        "'''\n",
        "======================\n",
        "전체 시간 모형 \n",
        "======================\n",
        "\n",
        "'''    \n",
        "# 전체 시간 모형 \n",
        "# 성탄절 2017-12-25\n"
      ],
      "execution_count": 35,
      "outputs": [
        {
          "output_type": "execute_result",
          "data": {
            "text/plain": [
              "'\\n======================\\n전체 시간 모형 \\n======================\\n\\n'"
            ]
          },
          "metadata": {
            "tags": []
          },
          "execution_count": 35
        }
      ]
    },
    {
      "cell_type": "code",
      "metadata": {
        "id": "X0iVmBUyy3Vn",
        "colab_type": "code",
        "colab": {
          "base_uri": "https://localhost:8080/",
          "height": 68
        },
        "outputId": "843452ce-e62d-4c04-ca5d-44036b7789af"
      },
      "source": [
        "print(\"TRAIN: {}\\nTEST: {}\\nVAL: {}\".format(tr.shape, te.shape, val.shape))\n"
      ],
      "execution_count": 36,
      "outputs": [
        {
          "output_type": "stream",
          "text": [
            "TRAIN: (149593, 16)\n",
            "TEST: (216, 16)\n",
            "VAL: (2112, 16)\n"
          ],
          "name": "stdout"
        }
      ]
    },
    {
      "cell_type": "code",
      "metadata": {
        "id": "F_RTcetxy66Q",
        "colab_type": "code",
        "colab": {}
      },
      "source": [
        "def _deque_df(df):\n",
        "    \n",
        "\n",
        "    sequential_data = []\n",
        "    prev_points = deque(maxlen = SEQ_LEN)\n",
        "\n",
        "    for i in df.values:\n",
        "        prev_points.append([n for n in i[:-1]])\n",
        "        if len(prev_points) == SEQ_LEN:\n",
        "            sequential_data.append([np.array(prev_points), i[-1]])\n",
        "\n",
        "    #random.shuffle(sequential_data)\n",
        "\n",
        "    X = []\n",
        "    y = []\n",
        "\n",
        "    for seq, target in sequential_data:\n",
        "        X.append(seq)\n",
        "        y.append(target)\n",
        "\n",
        "    return np.array(X), np.array(y)\n",
        "\n",
        "\n",
        "\n",
        "train_X, train_y = _deque_df(tr)\n",
        "validation_X, validation_y = _deque_df(val)\n",
        "test_X, test_y = _deque_df(te)"
      ],
      "execution_count": 0,
      "outputs": []
    },
    {
      "cell_type": "code",
      "metadata": {
        "id": "GOvdcWh0y9kJ",
        "colab_type": "code",
        "colab": {
          "base_uri": "https://localhost:8080/",
          "height": 85
        },
        "outputId": "1489f89b-2744-49b0-d9df-6fc627c921b6"
      },
      "source": [
        "print(train_X[2])\n",
        "print(train_y[2])"
      ],
      "execution_count": 38,
      "outputs": [
        {
          "output_type": "stream",
          "text": [
            "[[0.         0.03166413 0.20628684 0.97760224 0.90080738 0.0013624\n",
            "  0.         0.         0.         0.         0.         1.\n",
            "  0.         0.26952    0.21316   ]]\n",
            "0.27055\n"
          ],
          "name": "stdout"
        }
      ]
    },
    {
      "cell_type": "code",
      "metadata": {
        "id": "xKGvu9H1zBiS",
        "colab_type": "code",
        "colab": {
          "base_uri": "https://localhost:8080/",
          "height": 68
        },
        "outputId": "312596a3-c48e-42db-8c2a-3b70284b84a4"
      },
      "source": [
        "\n",
        "print(f\"train X shape: {train_X.shape} train y shape: {train_y.shape}\")\n",
        "print(f\"val X shape: {validation_X.shape} val y shape: {validation_y.shape}\")\n",
        "print(f\"test X shape: {test_X.shape} test y shape: {test_y.shape}\")\n",
        "\n"
      ],
      "execution_count": 39,
      "outputs": [
        {
          "output_type": "stream",
          "text": [
            "train X shape: (149593, 1, 15) train y shape: (149593,)\n",
            "val X shape: (2112, 1, 15) val y shape: (2112,)\n",
            "test X shape: (216, 1, 15) test y shape: (216,)\n"
          ],
          "name": "stdout"
        }
      ]
    },
    {
      "cell_type": "code",
      "metadata": {
        "id": "Ruijp725zEn6",
        "colab_type": "code",
        "colab": {}
      },
      "source": [
        "if 1: \n",
        "    train_X = train_X.reshape(149593,15)\n",
        "    validation_X = validation_X.reshape(2112,15)\n",
        "    test_X = test_X.reshape(216,15)\n",
        "elif 0: # 요일더미 넣었을 때 \n",
        "    train_X = train_X.reshape(6233,15)\n",
        "    validation_X = validation_X.reshape(87,15)\n",
        "    test_X = test_X.reshape(10,15)"
      ],
      "execution_count": 0,
      "outputs": []
    },
    {
      "cell_type": "code",
      "metadata": {
        "id": "ZOKPrHshzFQe",
        "colab_type": "code",
        "colab": {
          "base_uri": "https://localhost:8080/",
          "height": 411
        },
        "outputId": "0241bf62-7454-4cc3-fe13-d1eaed614b7e"
      },
      "source": [
        "model = Sequential()\n",
        "model.add(Dense(8, activation='elu', input_dim=15))\n",
        "model.add(Dense(16, activation='elu', input_dim=8))\n",
        "model.add(Dense(8, activation='elu', input_dim=16))\n",
        "model.add(Dense(1, activation='elu'))\n",
        "model.compile(optimizer='Adam',\n",
        "              loss='mse',\n",
        "              metrics=['accuracy'])\n",
        "\n",
        "opt = tf.keras.optimizers.Adam(lr = 0.001, decay = 1e-6)\n",
        "\n",
        "model.compile(loss = 'mse', optimizer = opt, metrics = ['accuracy'])\n",
        "\n",
        "#start = datetime.now()\n",
        "model.fit(train_X, train_y, batch_size = BATCH_SIZE,\n",
        "                                        epochs = 10,\n",
        "         validation_data = (validation_X, validation_y))\n",
        "\n"
      ],
      "execution_count": 41,
      "outputs": [
        {
          "output_type": "stream",
          "text": [
            "Train on 149593 samples, validate on 2112 samples\n",
            "Epoch 1/10\n",
            "149593/149593 [==============================] - 10s 64us/sample - loss: 0.0025 - acc: 0.0000e+00 - val_loss: 9.5957e-04 - val_acc: 0.0000e+00\n",
            "Epoch 2/10\n",
            "149593/149593 [==============================] - 9s 63us/sample - loss: 4.6912e-04 - acc: 0.0000e+00 - val_loss: 4.9022e-04 - val_acc: 0.0000e+00\n",
            "Epoch 3/10\n",
            "149593/149593 [==============================] - 10s 64us/sample - loss: 3.8904e-04 - acc: 0.0000e+00 - val_loss: 4.4258e-04 - val_acc: 0.0000e+00\n",
            "Epoch 4/10\n",
            "149593/149593 [==============================] - 9s 63us/sample - loss: 3.7465e-04 - acc: 0.0000e+00 - val_loss: 4.4770e-04 - val_acc: 0.0000e+00\n",
            "Epoch 5/10\n",
            "149593/149593 [==============================] - 9s 62us/sample - loss: 3.6884e-04 - acc: 0.0000e+00 - val_loss: 4.1067e-04 - val_acc: 0.0000e+00\n",
            "Epoch 6/10\n",
            "149593/149593 [==============================] - 9s 63us/sample - loss: 3.6295e-04 - acc: 0.0000e+00 - val_loss: 4.3227e-04 - val_acc: 0.0000e+00\n",
            "Epoch 7/10\n",
            "149593/149593 [==============================] - 10s 68us/sample - loss: 3.6011e-04 - acc: 0.0000e+00 - val_loss: 3.9861e-04 - val_acc: 0.0000e+00\n",
            "Epoch 8/10\n",
            "149593/149593 [==============================] - 10s 68us/sample - loss: 3.5840e-04 - acc: 0.0000e+00 - val_loss: 3.9595e-04 - val_acc: 0.0000e+00\n",
            "Epoch 9/10\n",
            "149593/149593 [==============================] - 10s 64us/sample - loss: 3.5478e-04 - acc: 0.0000e+00 - val_loss: 3.9732e-04 - val_acc: 0.0000e+00\n",
            "Epoch 10/10\n",
            "149593/149593 [==============================] - 9s 63us/sample - loss: 3.5188e-04 - acc: 0.0000e+00 - val_loss: 3.8329e-04 - val_acc: 0.0000e+00\n"
          ],
          "name": "stdout"
        },
        {
          "output_type": "execute_result",
          "data": {
            "text/plain": [
              "<tensorflow.python.keras.callbacks.History at 0x7f9843debc50>"
            ]
          },
          "metadata": {
            "tags": []
          },
          "execution_count": 41
        }
      ]
    },
    {
      "cell_type": "code",
      "metadata": {
        "id": "jqF1YmPW17-h",
        "colab_type": "code",
        "colab": {
          "base_uri": "https://localhost:8080/",
          "height": 1000
        },
        "outputId": "5d90366d-7fc1-485f-f189-c30595f36db4"
      },
      "source": [
        "pred = model.predict(test_X)\n",
        "pred = list(itertools.chain(*pred))\n",
        "pred"
      ],
      "execution_count": 42,
      "outputs": [
        {
          "output_type": "execute_result",
          "data": {
            "text/plain": [
              "[0.4691848,\n",
              " 0.4541895,\n",
              " 0.4486507,\n",
              " 0.45565972,\n",
              " 0.47566333,\n",
              " 0.50960475,\n",
              " 0.5274444,\n",
              " 0.5410404,\n",
              " 0.55129087,\n",
              " 0.5561043,\n",
              " 0.5543769,\n",
              " 0.5453062,\n",
              " 0.56068087,\n",
              " 0.56579065,\n",
              " 0.5683438,\n",
              " 0.57490873,\n",
              " 0.57721484,\n",
              " 0.5876837,\n",
              " 0.60568,\n",
              " 0.6016511,\n",
              " 0.58775663,\n",
              " 0.5691227,\n",
              " 0.5469145,\n",
              " 0.5217243,\n",
              " 0.50369,\n",
              " 0.49389076,\n",
              " 0.49115053,\n",
              " 0.49419406,\n",
              " 0.50277185,\n",
              " 0.51733136,\n",
              " 0.5281522,\n",
              " 0.55206007,\n",
              " 0.5636815,\n",
              " 0.56757516,\n",
              " 0.56711745,\n",
              " 0.5498266,\n",
              " 0.5666626,\n",
              " 0.5748742,\n",
              " 0.57559687,\n",
              " 0.57819283,\n",
              " 0.572215,\n",
              " 0.5718068,\n",
              " 0.590092,\n",
              " 0.59222573,\n",
              " 0.5845972,\n",
              " 0.5745962,\n",
              " 0.5707238,\n",
              " 0.49855122,\n",
              " 0.47749817,\n",
              " 0.46770015,\n",
              " 0.46489504,\n",
              " 0.47008505,\n",
              " 0.48279074,\n",
              " 0.50704366,\n",
              " 0.5328089,\n",
              " 0.56566954,\n",
              " 0.5738505,\n",
              " 0.57425874,\n",
              " 0.5702725,\n",
              " 0.54530597,\n",
              " 0.56992334,\n",
              " 0.58127975,\n",
              " 0.58230793,\n",
              " 0.5867951,\n",
              " 0.5784915,\n",
              " 0.576619,\n",
              " 0.58732283,\n",
              " 0.5840557,\n",
              " 0.5715103,\n",
              " 0.56036663,\n",
              " 0.5531612,\n",
              " 0.5154072,\n",
              " 0.49639317,\n",
              " 0.48694438,\n",
              " 0.48198548,\n",
              " 0.48579556,\n",
              " 0.49322316,\n",
              " 0.5062868,\n",
              " 0.51362085,\n",
              " 0.5367554,\n",
              " 0.5511129,\n",
              " 0.5542249,\n",
              " 0.5525341,\n",
              " 0.5317564,\n",
              " 0.55289936,\n",
              " 0.56012905,\n",
              " 0.558981,\n",
              " 0.55987823,\n",
              " 0.55147976,\n",
              " 0.5485929,\n",
              " 0.56586003,\n",
              " 0.56979924,\n",
              " 0.5625689,\n",
              " 0.55425096,\n",
              " 0.5429266,\n",
              " 0.5159524,\n",
              " 0.4971929,\n",
              " 0.48769328,\n",
              " 0.48392558,\n",
              " 0.487847,\n",
              " 0.49764252,\n",
              " 0.5174248,\n",
              " 0.5365523,\n",
              " 0.5632734,\n",
              " 0.56967574,\n",
              " 0.572359,\n",
              " 0.56887907,\n",
              " 0.5449594,\n",
              " 0.5714822,\n",
              " 0.58088267,\n",
              " 0.5804647,\n",
              " 0.58102155,\n",
              " 0.5710138,\n",
              " 0.5672571,\n",
              " 0.57796824,\n",
              " 0.5748632,\n",
              " 0.5630809,\n",
              " 0.5524794,\n",
              " 0.54845834,\n",
              " 0.50371325,\n",
              " 0.48792312,\n",
              " 0.47979745,\n",
              " 0.47508374,\n",
              " 0.4756404,\n",
              " 0.4770485,\n",
              " 0.48105475,\n",
              " 0.48292038,\n",
              " 0.49061748,\n",
              " 0.49443945,\n",
              " 0.49603948,\n",
              " 0.49365085,\n",
              " 0.4840357,\n",
              " 0.49645343,\n",
              " 0.49752262,\n",
              " 0.4960278,\n",
              " 0.49376974,\n",
              " 0.4888124,\n",
              " 0.49334028,\n",
              " 0.50917494,\n",
              " 0.51512855,\n",
              " 0.5118491,\n",
              " 0.50977224,\n",
              " 0.5050432,\n",
              " 0.4810457,\n",
              " 0.46144745,\n",
              " 0.452462,\n",
              " 0.44774893,\n",
              " 0.4491774,\n",
              " 0.45340475,\n",
              " 0.45858368,\n",
              " 0.4602101,\n",
              " 0.4641269,\n",
              " 0.46317452,\n",
              " 0.46517566,\n",
              " 0.4634842,\n",
              " 0.45540097,\n",
              " 0.46340504,\n",
              " 0.465558,\n",
              " 0.46521458,\n",
              " 0.46831012,\n",
              " 0.4710953,\n",
              " 0.47981837,\n",
              " 0.49674076,\n",
              " 0.504599,\n",
              " 0.501373,\n",
              " 0.4987403,\n",
              " 0.49485436,\n",
              " 0.475224,\n",
              " 0.4494507,\n",
              " 0.43500474,\n",
              " 0.4302211,\n",
              " 0.43654397,\n",
              " 0.45746073,\n",
              " 0.48840395,\n",
              " 0.49561703,\n",
              " 0.5022973,\n",
              " 0.51360345,\n",
              " 0.522488,\n",
              " 0.52454656,\n",
              " 0.51846814,\n",
              " 0.5266144,\n",
              " 0.53118825,\n",
              " 0.534926,\n",
              " 0.5407133,\n",
              " 0.54606265,\n",
              " 0.5548987,\n",
              " 0.5772897,\n",
              " 0.57837975,\n",
              " 0.5658561,\n",
              " 0.54643196,\n",
              " 0.522838,\n",
              " 0.4774482,\n",
              " 0.46000263,\n",
              " 0.4526848,\n",
              " 0.4500238,\n",
              " 0.45475572,\n",
              " 0.46595886,\n",
              " 0.48753667,\n",
              " 0.51678735,\n",
              " 0.5582169,\n",
              " 0.5730376,\n",
              " 0.5791377,\n",
              " 0.5807936,\n",
              " 0.5578737,\n",
              " 0.5889039,\n",
              " 0.59941596,\n",
              " 0.5978005,\n",
              " 0.5981028,\n",
              " 0.5889636,\n",
              " 0.58593005,\n",
              " 0.5936023,\n",
              " 0.58738756,\n",
              " 0.5754681,\n",
              " 0.56544834,\n",
              " 0.5601333,\n",
              " 0.5307923]"
            ]
          },
          "metadata": {
            "tags": []
          },
          "execution_count": 42
        }
      ]
    },
    {
      "cell_type": "code",
      "metadata": {
        "id": "-FBa4D8i2Adg",
        "colab_type": "code",
        "colab": {
          "base_uri": "https://localhost:8080/",
          "height": 1000
        },
        "outputId": "d3b1d2ee-6ff3-41ba-e1e1-d7e7b55d4ba3"
      },
      "source": [
        "yhat = model.predict(test_X)\n",
        "yhat"
      ],
      "execution_count": 18,
      "outputs": [
        {
          "output_type": "execute_result",
          "data": {
            "text/plain": [
              "array([[0.6805387 ],\n",
              "       [0.6661951 ],\n",
              "       [0.66219825],\n",
              "       [0.66553205],\n",
              "       [0.6802158 ],\n",
              "       [0.7091643 ],\n",
              "       [0.754373  ],\n",
              "       [0.8183986 ],\n",
              "       [0.83743757],\n",
              "       [0.8342591 ],\n",
              "       [0.82438636],\n",
              "       [0.77469873],\n",
              "       [0.79864734],\n",
              "       [0.80934703],\n",
              "       [0.8119295 ],\n",
              "       [0.820741  ],\n",
              "       [0.8124295 ],\n",
              "       [0.7919406 ],\n",
              "       [0.7709089 ],\n",
              "       [0.7491564 ],\n",
              "       [0.72896177],\n",
              "       [0.72335964],\n",
              "       [0.73573947],\n",
              "       [0.68928224],\n",
              "       [0.6629037 ],\n",
              "       [0.6480642 ],\n",
              "       [0.64189   ],\n",
              "       [0.6465016 ],\n",
              "       [0.66065013],\n",
              "       [0.69126046],\n",
              "       [0.73387355],\n",
              "       [0.7983552 ],\n",
              "       [0.824564  ],\n",
              "       [0.8211148 ],\n",
              "       [0.80555135],\n",
              "       [0.7530818 ],\n",
              "       [0.7706484 ],\n",
              "       [0.77638555],\n",
              "       [0.7786284 ],\n",
              "       [0.7873618 ],\n",
              "       [0.7864877 ],\n",
              "       [0.77183187],\n",
              "       [0.7550485 ],\n",
              "       [0.73522276],\n",
              "       [0.71409154],\n",
              "       [0.7087066 ],\n",
              "       [0.7204981 ],\n",
              "       [0.6275034 ],\n",
              "       [0.6083348 ],\n",
              "       [0.59695095],\n",
              "       [0.5918532 ],\n",
              "       [0.5940602 ],\n",
              "       [0.6007224 ],\n",
              "       [0.6109232 ],\n",
              "       [0.6303056 ],\n",
              "       [0.6709149 ],\n",
              "       [0.68087465],\n",
              "       [0.6741087 ],\n",
              "       [0.6601092 ],\n",
              "       [0.62477875],\n",
              "       [0.63830113],\n",
              "       [0.64037406],\n",
              "       [0.6377617 ],\n",
              "       [0.64144397],\n",
              "       [0.63935053],\n",
              "       [0.63560456],\n",
              "       [0.63128984],\n",
              "       [0.6240274 ],\n",
              "       [0.61623406],\n",
              "       [0.6195686 ],\n",
              "       [0.63505274],\n",
              "       [0.6476032 ],\n",
              "       [0.6229584 ],\n",
              "       [0.60803896],\n",
              "       [0.6011844 ],\n",
              "       [0.6020931 ],\n",
              "       [0.6066859 ],\n",
              "       [0.61067224],\n",
              "       [0.6123643 ],\n",
              "       [0.626266  ],\n",
              "       [0.62184983],\n",
              "       [0.617144  ],\n",
              "       [0.6087922 ],\n",
              "       [0.57922053],\n",
              "       [0.58010876],\n",
              "       [0.5772217 ],\n",
              "       [0.57738346],\n",
              "       [0.5863208 ],\n",
              "       [0.6035348 ],\n",
              "       [0.61326283],\n",
              "       [0.61501235],\n",
              "       [0.61102045],\n",
              "       [0.6077537 ],\n",
              "       [0.61749005],\n",
              "       [0.6334267 ],\n",
              "       [0.62784517],\n",
              "       [0.5952491 ],\n",
              "       [0.57606614],\n",
              "       [0.56728315],\n",
              "       [0.57220566],\n",
              "       [0.5865903 ],\n",
              "       [0.6103645 ],\n",
              "       [0.63471633],\n",
              "       [0.6718942 ],\n",
              "       [0.6966686 ],\n",
              "       [0.7127212 ],\n",
              "       [0.7105067 ],\n",
              "       [0.6872257 ],\n",
              "       [0.6902071 ],\n",
              "       [0.6915989 ],\n",
              "       [0.6902236 ],\n",
              "       [0.7005833 ],\n",
              "       [0.71195096],\n",
              "       [0.7107742 ],\n",
              "       [0.69486165],\n",
              "       [0.6800732 ],\n",
              "       [0.66719705],\n",
              "       [0.6694353 ],\n",
              "       [0.67624086],\n",
              "       [0.6568847 ],\n",
              "       [0.63383186],\n",
              "       [0.6190419 ],\n",
              "       [0.6143265 ],\n",
              "       [0.6182715 ],\n",
              "       [0.6277392 ],\n",
              "       [0.63727105],\n",
              "       [0.6466462 ],\n",
              "       [0.673126  ],\n",
              "       [0.6858974 ],\n",
              "       [0.6881353 ],\n",
              "       [0.6798434 ],\n",
              "       [0.6544216 ],\n",
              "       [0.66284853],\n",
              "       [0.6673832 ],\n",
              "       [0.6748183 ],\n",
              "       [0.68954206],\n",
              "       [0.70282716],\n",
              "       [0.70842737],\n",
              "       [0.70841324],\n",
              "       [0.7016254 ],\n",
              "       [0.6935925 ],\n",
              "       [0.6976897 ],\n",
              "       [0.705324  ],\n",
              "       [0.6540815 ],\n",
              "       [0.6301436 ],\n",
              "       [0.61534804],\n",
              "       [0.6127285 ],\n",
              "       [0.61945415],\n",
              "       [0.6364912 ],\n",
              "       [0.6702735 ],\n",
              "       [0.7184999 ],\n",
              "       [0.78869456],\n",
              "       [0.8189544 ],\n",
              "       [0.8182046 ],\n",
              "       [0.8084404 ],\n",
              "       [0.7628691 ],\n",
              "       [0.7843284 ],\n",
              "       [0.7924535 ],\n",
              "       [0.7942614 ],\n",
              "       [0.8078027 ],\n",
              "       [0.80601305],\n",
              "       [0.7925971 ],\n",
              "       [0.77626693],\n",
              "       [0.7513331 ],\n",
              "       [0.7288154 ],\n",
              "       [0.72096485],\n",
              "       [0.73015225],\n",
              "       [0.70223725],\n",
              "       [0.6759261 ],\n",
              "       [0.6629522 ],\n",
              "       [0.657375  ],\n",
              "       [0.6633469 ],\n",
              "       [0.67655283],\n",
              "       [0.7041007 ],\n",
              "       [0.7475894 ],\n",
              "       [0.81077653],\n",
              "       [0.83574873],\n",
              "       [0.8304301 ],\n",
              "       [0.81555593],\n",
              "       [0.7648574 ],\n",
              "       [0.78594255],\n",
              "       [0.7917504 ],\n",
              "       [0.7949041 ],\n",
              "       [0.8091372 ],\n",
              "       [0.80825984],\n",
              "       [0.79249626],\n",
              "       [0.77320784],\n",
              "       [0.750636  ],\n",
              "       [0.7302088 ],\n",
              "       [0.7241637 ],\n",
              "       [0.7364366 ],\n",
              "       [0.6657984 ],\n",
              "       [0.64089584],\n",
              "       [0.6258385 ],\n",
              "       [0.62000424],\n",
              "       [0.622962  ],\n",
              "       [0.63421947],\n",
              "       [0.65818274],\n",
              "       [0.68937194],\n",
              "       [0.7488115 ],\n",
              "       [0.78005195],\n",
              "       [0.77421165],\n",
              "       [0.75753003],\n",
              "       [0.7143247 ],\n",
              "       [0.7345428 ],\n",
              "       [0.7353397 ],\n",
              "       [0.7311724 ],\n",
              "       [0.7340514 ],\n",
              "       [0.72614145],\n",
              "       [0.7149999 ],\n",
              "       [0.7062281 ],\n",
              "       [0.68915033],\n",
              "       [0.67301244],\n",
              "       [0.66928357],\n",
              "       [0.6812653 ],\n",
              "       [0.6163602 ]], dtype=float32)"
            ]
          },
          "metadata": {
            "tags": []
          },
          "execution_count": 18
        }
      ]
    },
    {
      "cell_type": "code",
      "metadata": {
        "id": "CFDc_CG00-qY",
        "colab_type": "code",
        "colab": {}
      },
      "source": [
        "result = pd.DataFrame({'y_true':test_y,'y_pred':pred})"
      ],
      "execution_count": 0,
      "outputs": []
    },
    {
      "cell_type": "code",
      "metadata": {
        "id": "OZ302cCo6MKT",
        "colab_type": "code",
        "colab": {}
      },
      "source": [
        "import matplotlib.pyplot as plt"
      ],
      "execution_count": 0,
      "outputs": []
    },
    {
      "cell_type": "code",
      "metadata": {
        "id": "Q0sLOmGWAAJg",
        "colab_type": "code",
        "colab": {}
      },
      "source": [
        "total_mape = np.mean(np.abs(test_y-pred)/test_y)*100"
      ],
      "execution_count": 0,
      "outputs": []
    },
    {
      "cell_type": "code",
      "metadata": {
        "id": "xoZn4X2T6GZC",
        "colab_type": "code",
        "colab": {
          "base_uri": "https://localhost:8080/",
          "height": 499
        },
        "outputId": "828b0c90-513a-4c39-f7a2-53f00b2a5178"
      },
      "source": [
        "plt.figure(figsize=(20,8))\n",
        "#plt.title(\"Childeren's Day from time01-21st to time23-30th Dec, MAPE= {}\".format(mape.round(4)))\n",
        "plt.title(\"2017 Children's Day MAPE = {}\".format(total_mape.round(4)))\n",
        "plt.plot(pred, label='predict')\n",
        "plt.plot(test_y, label='true', linestyle = ':')\n",
        "plt.legend()\n",
        "plt.show()\n"
      ],
      "execution_count": 46,
      "outputs": [
        {
          "output_type": "display_data",
          "data": {
            "image/png": "[encoded data removed]",
            "text/plain": [
              "<Figure size 1440x576 with 1 Axes>"
            ]
          },
          "metadata": {
            "tags": []
          }
        }
      ]
    },
    {
      "cell_type": "code",
      "metadata": {
        "id": "rUj03WV-6KQS",
        "colab_type": "code",
        "colab": {
          "base_uri": "https://localhost:8080/",
          "height": 34
        },
        "outputId": "4a7e81de-25e7-4c63-e73a-3e1fe63cb1da"
      },
      "source": [
        "\n",
        "total_mape"
      ],
      "execution_count": 28,
      "outputs": [
        {
          "output_type": "execute_result",
          "data": {
            "text/plain": [
              "3.37818766227233"
            ]
          },
          "metadata": {
            "tags": []
          },
          "execution_count": 28
        }
      ]
    },
    {
      "cell_type": "code",
      "metadata": {
        "id": "uKe_-R6I_00w",
        "colab_type": "code",
        "colab": {}
      },
      "source": [
        ""
      ],
      "execution_count": 0,
      "outputs": []
    }
  ]
}