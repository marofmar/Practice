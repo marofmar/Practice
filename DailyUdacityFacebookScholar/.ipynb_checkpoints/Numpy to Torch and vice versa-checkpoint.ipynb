{
 "cells": [
  {
   "cell_type": "code",
   "execution_count": 4,
   "metadata": {},
   "outputs": [
    {
     "data": {
      "text/plain": [
       "array([[0.73602658, 0.35813305, 0.90088383],\n",
       "       [0.90887151, 0.31731371, 0.27967135],\n",
       "       [0.20489528, 0.0623012 , 0.34198337],\n",
       "       [0.88357954, 0.06923606, 0.20748946]])"
      ]
     },
     "execution_count": 4,
     "metadata": {},
     "output_type": "execute_result"
    }
   ],
   "source": [
    "import numpy as np\n",
    "import torch\n",
    "a  = np.random.rand(4,3)\n",
    "a"
   ]
  },
  {
   "cell_type": "code",
   "execution_count": 5,
   "metadata": {},
   "outputs": [
    {
     "data": {
      "text/plain": [
       "tensor([[0.7360, 0.3581, 0.9009],\n",
       "        [0.9089, 0.3173, 0.2797],\n",
       "        [0.2049, 0.0623, 0.3420],\n",
       "        [0.8836, 0.0692, 0.2075]], dtype=torch.float64)"
      ]
     },
     "execution_count": 5,
     "metadata": {},
     "output_type": "execute_result"
    }
   ],
   "source": [
    "b = torch.from_numpy(a)\n",
    "b\n",
    "# from numpy to tensor"
   ]
  },
  {
   "cell_type": "code",
   "execution_count": 6,
   "metadata": {},
   "outputs": [
    {
     "data": {
      "text/plain": [
       "array([[0.73602658, 0.35813305, 0.90088383],\n",
       "       [0.90887151, 0.31731371, 0.27967135],\n",
       "       [0.20489528, 0.0623012 , 0.34198337],\n",
       "       [0.88357954, 0.06923606, 0.20748946]])"
      ]
     },
     "execution_count": 6,
     "metadata": {},
     "output_type": "execute_result"
    }
   ],
   "source": [
    "b.numpy()"
   ]
  },
  {
   "cell_type": "code",
   "execution_count": 7,
   "metadata": {},
   "outputs": [
    {
     "data": {
      "text/plain": [
       "tensor([[1.4721, 0.7163, 1.8018],\n",
       "        [1.8177, 0.6346, 0.5593],\n",
       "        [0.4098, 0.1246, 0.6840],\n",
       "        [1.7672, 0.1385, 0.4150]], dtype=torch.float64)"
      ]
     },
     "execution_count": 7,
     "metadata": {},
     "output_type": "execute_result"
    }
   ],
   "source": [
    "b.mul_(2)"
   ]
  },
  {
   "cell_type": "code",
   "execution_count": 9,
   "metadata": {},
   "outputs": [
    {
     "data": {
      "text/plain": [
       "array([[1.47205317, 0.7162661 , 1.80176766],\n",
       "       [1.81774303, 0.63462742, 0.5593427 ],\n",
       "       [0.40979055, 0.12460241, 0.68396673],\n",
       "       [1.76715907, 0.13847212, 0.41497892]])"
      ]
     },
     "execution_count": 9,
     "metadata": {},
     "output_type": "execute_result"
    }
   ],
   "source": [
    "a\n",
    "# automatically INPLACE!\n",
    "# \"the memory is shared btw Numpy array and Torch tensor.\""
   ]
  },
  {
   "cell_type": "code",
   "execution_count": null,
   "metadata": {},
   "outputs": [],
   "source": []
  }
 ],
 "metadata": {
  "kernelspec": {
   "display_name": "Python 3",
   "language": "python",
   "name": "python3"
  },
  "language_info": {
   "codemirror_mode": {
    "name": "ipython",
    "version": 3
   },
   "file_extension": ".py",
   "mimetype": "text/x-python",
   "name": "python",
   "nbconvert_exporter": "python",
   "pygments_lexer": "ipython3",
   "version": "3.7.1"
  }
 },
 "nbformat": 4,
 "nbformat_minor": 2
}
