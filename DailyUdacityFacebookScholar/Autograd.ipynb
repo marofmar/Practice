{
 "cells": [
  {
   "cell_type": "markdown",
   "metadata": {},
   "source": [
    "# Notes for Autograd\n",
    ">\n",
    "    - Torch provides 'autograd' for automatically caluculating the gradients of tensors.\n",
    "    - Autograd works by keeping track of operations performed on tensors, then going backwards through those operations.\n",
    "    - 'requires_grad = True' on a tensor\n",
    "    - @criterion, with the 'requres_grad'\n",
    "    - or at any tiem with x.requres_grad_(True)'\n",
    "    <br>\n",
    "    - 'torch.no_grad()' turn off gradients for a block of code\n",
    "    - 'torch.set_grad_enabled(True|False) turn on or off gradietns altogether\n",
    "    <br>\n",
    "    - 'z.backward()' the gradients are computed with respect to some variable z"
   ]
  },
  {
   "cell_type": "code",
   "execution_count": 22,
   "metadata": {},
   "outputs": [
    {
     "name": "stdout",
     "output_type": "stream",
     "text": [
      "tensor([[ 0.2643,  1.0287],\n",
      "        [-0.5707,  1.2247]], requires_grad=True)\n"
     ]
    }
   ],
   "source": [
    "import torch\n",
    "x = torch.randn(2,2, requires_grad = True)\n",
    "print(x)"
   ]
  },
  {
   "cell_type": "code",
   "execution_count": 23,
   "metadata": {},
   "outputs": [
    {
     "name": "stdout",
     "output_type": "stream",
     "text": [
      "tensor([[0.0698, 1.0581],\n",
      "        [0.3257, 1.4999]], grad_fn=<PowBackward0>)\n"
     ]
    }
   ],
   "source": [
    "y = x**2\n",
    "print(y)"
   ]
  },
  {
   "cell_type": "code",
   "execution_count": 24,
   "metadata": {},
   "outputs": [
    {
     "name": "stdout",
     "output_type": "stream",
     "text": [
      "<PowBackward0 object at 0x11caaa0b8>\n"
     ]
    }
   ],
   "source": [
    "print(y.grad_fn)\n",
    "# last op was Power operation "
   ]
  },
  {
   "cell_type": "code",
   "execution_count": 25,
   "metadata": {},
   "outputs": [
    {
     "data": {
      "text/plain": [
       "tensor(0.7384, grad_fn=<MeanBackward0>)"
      ]
     },
     "execution_count": 25,
     "metadata": {},
     "output_type": "execute_result"
    }
   ],
   "source": [
    "z = y.mean()\n",
    "z"
   ]
  },
  {
   "cell_type": "code",
   "execution_count": 26,
   "metadata": {},
   "outputs": [
    {
     "name": "stdout",
     "output_type": "stream",
     "text": [
      "None\n"
     ]
    }
   ],
   "source": [
    "print(x.grad)"
   ]
  },
  {
   "cell_type": "code",
   "execution_count": 27,
   "metadata": {},
   "outputs": [
    {
     "name": "stdout",
     "output_type": "stream",
     "text": [
      "tensor([[ 0.1321,  0.5143],\n",
      "        [-0.2853,  0.6123]])\n",
      "tensor([[ 0.1321,  0.5143],\n",
      "        [-0.2853,  0.6123]], grad_fn=<DivBackward0>)\n"
     ]
    }
   ],
   "source": [
    "z.backward()\n",
    "print(x.grad)\n",
    "print(x/2)\n",
    "# basically same vaalue btw: x.grad and x/2"
   ]
  },
  {
   "cell_type": "code",
   "execution_count": null,
   "metadata": {},
   "outputs": [],
   "source": []
  }
 ],
 "metadata": {
  "kernelspec": {
   "display_name": "Python 3",
   "language": "python",
   "name": "python3"
  },
  "language_info": {
   "codemirror_mode": {
    "name": "ipython",
    "version": 3
   },
   "file_extension": ".py",
   "mimetype": "text/x-python",
   "name": "python",
   "nbconvert_exporter": "python",
   "pygments_lexer": "ipython3",
   "version": "3.7.1"
  }
 },
 "nbformat": 4,
 "nbformat_minor": 2
}
